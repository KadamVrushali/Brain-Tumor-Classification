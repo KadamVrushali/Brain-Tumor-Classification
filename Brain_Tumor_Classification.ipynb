{
  "cells": [
    {
      "cell_type": "code",
      "execution_count": null,
      "metadata": {
        "id": "fIYRrcpqPYw0"
      },
      "outputs": [],
      "source": [
        "!mkdir -p ~/.kaggle\n",
        "!cp kaggle.json ~/.kaggle/"
      ]
    },
    {
      "cell_type": "code",
      "execution_count": null,
      "metadata": {
        "colab": {
          "base_uri": "https://localhost:8080/"
        },
        "id": "XGtniSF3PqsQ",
        "outputId": "9072f0d8-9a00-41b0-d376-7bcc9c71dad2"
      },
      "outputs": [
        {
          "output_type": "stream",
          "name": "stdout",
          "text": [
            "Warning: Your Kaggle API key is readable by other users on this system! To fix this, you can run 'chmod 600 /root/.kaggle/kaggle.json'\n",
            "Downloading brain-tumor-mri-dataset.zip to /content\n",
            " 89% 132M/149M [00:01<00:00, 115MB/s] \n",
            "100% 149M/149M [00:01<00:00, 105MB/s]\n"
          ]
        }
      ],
      "source": [
        "!kaggle datasets download -d masoudnickparvar/brain-tumor-mri-dataset"
      ]
    },
    {
      "cell_type": "code",
      "source": [
        "import numpy as np\n",
        "import pandas as pd\n",
        "import matplotlib.pyplot as plt\n",
        "import seaborn as sns\n",
        "import warnings\n",
        "import os\n",
        "warnings.filterwarnings(\"ignore\")\n",
        "\n",
        "from skimage.feature import hog\n",
        "from skimage import exposure\n",
        "\n",
        "from skimage.color import rgb2gray\n",
        "from sklearn.metrics import confusion_matrix, classification_report, roc_curve\n",
        "from sklearn.preprocessing import LabelEncoder\n",
        "from sklearn.model_selection import train_test_split\n",
        "\n",
        "import tensorflow as tf\n",
        "from tensorflow.keras.models import Sequential\n",
        "from tensorflow.keras.layers import Conv2D, MaxPooling2D, Flatten, Dense, Dropout\n",
        "from tensorflow.keras.optimizers import Adamax\n",
        "from tensorflow.keras.preprocessing.image import ImageDataGenerator\n",
        "\n",
        "import zipfile\n"
      ],
      "metadata": {
        "id": "B7TRnpxmpKnA"
      },
      "execution_count": null,
      "outputs": []
    },
    {
      "cell_type": "markdown",
      "source": [
        "# Data Visulization"
      ],
      "metadata": {
        "id": "UHx6AnaHpOWu"
      }
    },
    {
      "cell_type": "code",
      "execution_count": null,
      "metadata": {
        "id": "TdUvdTgtPyVL"
      },
      "outputs": [],
      "source": [
        "def extract():\n",
        "  zip_ref = zipfile.ZipFile('/content/brain-tumor-mri-dataset.zip', 'r')\n",
        "  zip_ref.extractall('/content')\n",
        "  zip_ref.close()"
      ]
    },
    {
      "cell_type": "code",
      "execution_count": null,
      "metadata": {
        "id": "t7vvbdAVP3GW"
      },
      "outputs": [],
      "source": [
        "\n",
        "def display_few():\n",
        "  from PIL import Image\n",
        "  from IPython.display import display\n",
        "  # Define the file paths\n",
        "  file_path1 = '/content/Testing/glioma/Te-glTr_0000.jpg'\n",
        "  file_path2 = '/content/Testing/meningioma/Te-meTr_0003.jpg'\n",
        "  file_path3 = '/content/Testing/notumor/Te-noTr_0000.jpg'\n",
        "  file_path4 = '/content/Testing/pituitary/Te-piTr_0000.jpg'\n",
        "\n",
        "  pathList = [file_path1, file_path2, file_path3, file_path4]\n",
        "\n",
        "  # Create an empty list to store the opened images\n",
        "  images = []\n",
        "\n",
        "  # Open and store the images in the list\n",
        "  for path in pathList:\n",
        "      img = Image.open(path)\n",
        "      images.append(img)\n",
        "\n",
        "  # Merge the images into a single display side by side\n",
        "  tiled_img = Image.new('RGB', (sum(img.width for img in images), max(img.height for img in images)))\n",
        "  x_offset = 0\n",
        "  for img in images:\n",
        "      tiled_img.paste(img, (x_offset, 0))\n",
        "      x_offset += img.width\n",
        "\n",
        "  # Display the merged image\n",
        "  display(tiled_img)"
      ]
    },
    {
      "cell_type": "code",
      "source": [
        "def load_dataframe(path):\n",
        "  path\n",
        "  labels=[]\n",
        "  filepaths=[]\n",
        "  folds=os.listdir(path)\n",
        "  for fold in folds:\n",
        "      foldpath=os.path.join(path,fold) #melengioma\n",
        "      foldlist=os.listdir(foldpath)\n",
        "      for file in foldlist:\n",
        "          filepath=os.path.join(foldpath,file) #image path\n",
        "          labels.append(fold)\n",
        "          filepaths.append(filepath)\n",
        "  l=pd.Series(labels,name=\"labels\")\n",
        "  f=pd.Series(filepaths,name=\"filepaths\")\n",
        "  tr_df=pd.concat([f,l],axis=1)\n",
        "  return tr_df\n",
        "\n",
        "def plot_df(df):\n",
        "  fig,ax=plt.subplots(figsize=(9,3))\n",
        "  fig.patch.set_facecolor(\"#f6f5f7\")\n",
        "  ax.set_facecolor(\"#f6f5f7\")\n",
        "  for i in [\"top\",\"right\"]:\n",
        "      ax.spines[i].set_visible(False)\n",
        "\n",
        "  x = sns.countplot(data=df, y=df[\"labels\"],palette='Blues')\n",
        "  for container in x.containers:\n",
        "      x.bar_label(container)\n",
        "  plt.title(\"\\nThe Count of images in each folder\\n\",weight=\"bold\");"
      ],
      "metadata": {
        "id": "uUzKi2iOpWnZ"
      },
      "execution_count": null,
      "outputs": []
    },
    {
      "cell_type": "code",
      "source": [
        "extract()"
      ],
      "metadata": {
        "id": "-o7OQyo4qgO3"
      },
      "execution_count": null,
      "outputs": []
    },
    {
      "cell_type": "code",
      "execution_count": null,
      "metadata": {
        "id": "CUH8_RVZYSXf"
      },
      "outputs": [],
      "source": [
        "training_df = load_dataframe(\"/content/Training\")\n",
        "testing_df = load_dataframe(\"/content/Testing\")"
      ]
    },
    {
      "cell_type": "code",
      "execution_count": null,
      "metadata": {
        "colab": {
          "base_uri": "https://localhost:8080/"
        },
        "id": "t1EffVHFYVB6",
        "outputId": "c0414b62-1766-4e50-bdd8-d25130ad3a25"
      },
      "outputs": [
        {
          "output_type": "stream",
          "name": "stdout",
          "text": [
            "                                     filepaths      labels\n",
            "0  /content/Training/meningioma/Tr-me_0893.jpg  meningioma\n",
            "1  /content/Training/meningioma/Tr-me_0551.jpg  meningioma\n",
            "2  /content/Training/meningioma/Tr-me_0562.jpg  meningioma\n",
            "3  /content/Training/meningioma/Tr-me_0612.jpg  meningioma\n",
            "4  /content/Training/meningioma/Tr-me_0984.jpg  meningioma\n",
            "                                    filepaths      labels\n",
            "0  /content/Testing/meningioma/Te-me_0153.jpg  meningioma\n",
            "1  /content/Testing/meningioma/Te-me_0231.jpg  meningioma\n",
            "2  /content/Testing/meningioma/Te-me_0223.jpg  meningioma\n",
            "3  /content/Testing/meningioma/Te-me_0214.jpg  meningioma\n",
            "4  /content/Testing/meningioma/Te-me_0238.jpg  meningioma\n"
          ]
        }
      ],
      "source": [
        "print(training_df.head())\n",
        "print(testing_df.head())"
      ]
    },
    {
      "cell_type": "code",
      "execution_count": null,
      "metadata": {
        "colab": {
          "base_uri": "https://localhost:8080/",
          "height": 733
        },
        "id": "dbyeWbg_YjB3",
        "outputId": "cc74ab89-3f80-48e9-9e33-b05c44e88282"
      },
      "outputs": [
        {
          "output_type": "display_data",
          "data": {
            "text/plain": [
              "<Figure size 900x300 with 1 Axes>"
            ],
            "image/png": "[encoded data removed]"
          },
          "metadata": {}
        },
        {
          "output_type": "display_data",
          "data": {
            "text/plain": [
              "<Figure size 900x300 with 1 Axes>"
            ],
            "image/png": "[encoded data removed]"
          },
          "metadata": {}
        }
      ],
      "source": [
        "plot_df(training_df)\n",
        "plot_df(testing_df)"
      ]
    },
    {
      "cell_type": "code",
      "execution_count": null,
      "metadata": {
        "id": "8dH4ub-DbcEr"
      },
      "outputs": [],
      "source": [
        "# gen_dict = train_gen.class_indices\n",
        "# print(gen_dict)\n",
        "# classes = list(gen_dict.keys())\n",
        "# images , labels = next(train_gen)\n",
        "\n",
        "# plt.figure(figsize= (8,8))\n",
        "\n",
        "# for i in range(16):\n",
        "#     plt.subplot(4,4,i+1)\n",
        "#     image = images[i] / 255\n",
        "#     plt.imshow(image)\n",
        "#     index = np.argmax(labels[i])\n",
        "#     class_name = classes[index]\n",
        "#     plt.title(class_name , color = 'black' , fontsize= 17,weight=\"bold\")\n",
        "#     plt.axis('off')\n",
        "# plt.show()"
      ]
    },
    {
      "cell_type": "code",
      "execution_count": null,
      "metadata": {
        "id": "NBETcYDebpt9"
      },
      "outputs": [],
      "source": [
        "# def extract_hog_features(image):\n",
        "#     # Convert the image to grayscale\n",
        "#     if len(image.shape) > 2 and image.shape[2] == 4:  # Check for RGBA images\n",
        "#         image_gray = rgb2gray(image[:, :, :3])  # Discard alpha channel\n",
        "#     elif len(image.shape) > 2:  # Handle other multichannel images\n",
        "#         image_gray = rgb2gray(image)\n",
        "#     else:  # Grayscale images\n",
        "#         image_gray = image\n",
        "\n",
        "#     # Extract HOG features from the grayscale image\n",
        "#     fd, hog_image = hog(image_gray, orientations=8, pixels_per_cell=(16, 16),\n",
        "#                         cells_per_block=(1, 1), visualize=True, multichannel=False)\n",
        "#     hog_image_rescaled = exposure.rescale_intensity(hog_image, in_range=(0, 10))\n",
        "#     return fd\n",
        "# def load_data_with_hog(data_path,max_feature_length = 0):\n",
        "#     labels = []\n",
        "#     features = []\n",
        "#     for class_name in os.listdir(data_path):\n",
        "#         class_path = os.path.join(data_path, class_name)\n",
        "#         for image_name in os.listdir(class_path):\n",
        "#             image_path = os.path.join(class_path, image_name)\n",
        "#             image = plt.imread(image_path)\n",
        "#             hog_features = extract_hog_features(image)\n",
        "#             features.append(hog_features)\n",
        "#             if len(hog_features) > max_feature_length:\n",
        "#                 max_feature_length = len(hog_features)\n",
        "#             labels.append(class_name)\n",
        "\n",
        "#     # Pad or truncate features to ensure they all have the same length\n",
        "#     features = [np.pad(feature, (0, max_feature_length - len(feature))) for feature in features]\n",
        "\n",
        "#     return np.array(features), np.array(labels),max_feature_length"
      ]
    },
    {
      "cell_type": "code",
      "execution_count": null,
      "metadata": {
        "id": "SlnS34uQbvcf"
      },
      "outputs": [],
      "source": [
        "# # Define data paths\n",
        "# train_data_path = '/content/Training'\n",
        "# test_data_path = '/content/Testing'\n",
        "\n",
        "# # Load training and testing data with HOG features\n",
        "# X_data, y_data, max_feature_length = load_data_with_hog(train_data_path)\n",
        "# X_test_data, y_test_data, max_feature_length = load_data_with_hog(test_data_path,max_feature_length)\n",
        "\n",
        "# # Split training data into training and validation sets\n",
        "# X_train, X_valid, y_train, y_valid = train_test_split(X_data, y_data, test_size=0.2, random_state=42)\n",
        "\n",
        "# # Convert labels to one-hot encoding\n",
        "# y_train = pd.get_dummies(y_train)\n",
        "# y_valid = pd.get_dummies(y_valid)\n",
        "# y_test = pd.get_dummies(y_test_data)\n",
        "\n",
        "# X_data.shape, X_test_data.shape"
      ]
    },
    {
      "cell_type": "markdown",
      "source": [
        "# Control CNN network"
      ],
      "metadata": {
        "id": "BPMaAPTYV9Ce"
      }
    },
    {
      "cell_type": "code",
      "source": [
        "img_size=(224,224)\n",
        "\n",
        "tr=ImageDataGenerator()\n",
        "ts=ImageDataGenerator()\n",
        "\n",
        "train_gen=tr.flow_from_dataframe(training_df,x_col=\"filepaths\",y_col=\"labels\",\n",
        "                                 target_size=img_size,\n",
        "                                 batch_size=32,shuffle=True,\n",
        "                                 class_mode='categorical',color_mode=\"grayscale\")\n",
        "\n",
        "\n",
        "valid_gen=ts.flow_from_dataframe(training_df,x_col='filepaths',y_col='labels',\n",
        "                                target_size=img_size,\n",
        "                                 class_mode=\"categorical\",color_mode=\"grayscale\",\n",
        "                                 shuffle=True,batch_size=32,)\n",
        "\n",
        "\n",
        "test_gen=ts.flow_from_dataframe(testing_df, x_col='filepaths', y_col='labels',\n",
        "                                 target_size=img_size,\n",
        "                                 batch_size=32, shuffle=False,\n",
        "                                 color_mode=\"grayscale\", class_mode=\"categorical\")"
      ],
      "metadata": {
        "colab": {
          "base_uri": "https://localhost:8080/"
        },
        "id": "r87yJZaXdPO7",
        "outputId": "a3e35216-618b-4065-a73d-c20bb60e52ba"
      },
      "execution_count": null,
      "outputs": [
        {
          "output_type": "stream",
          "name": "stdout",
          "text": [
            "Found 5712 validated image filenames belonging to 4 classes.\n",
            "Found 5712 validated image filenames belonging to 4 classes.\n",
            "Found 1311 validated image filenames belonging to 4 classes.\n"
          ]
        }
      ]
    },
    {
      "cell_type": "code",
      "source": [
        "# Define the CNN model\n",
        "def block(f):\n",
        "  return [\n",
        "        Conv2D(f,(3,3),padding='same'),\n",
        "        Conv2D(f,(1,1),padding='same'),\n",
        "        MaxPooling2D(pool_size=(2, 2), strides=(2, 2))\n",
        "      ]\n",
        "\n",
        "model_cnn = Sequential([\n",
        "    Conv2D(8,(3,3),input_shape=(224,224,1),padding='same'),\n",
        "    *block(16),\n",
        "    *block(16),\n",
        "    *block(32),\n",
        "    *block(32),\n",
        "    Flatten(),\n",
        "    Dense(128, activation='relu'),\n",
        "    Dropout(0.5),\n",
        "    Dense(64, activation='relu'),\n",
        "    Dropout(0.25),\n",
        "    Dense(4, activation='softmax')\n",
        "])"
      ],
      "metadata": {
        "id": "F2KabgymVrLi"
      },
      "execution_count": null,
      "outputs": []
    },
    {
      "cell_type": "code",
      "execution_count": null,
      "metadata": {
        "id": "gfCLrEa2b1AH"
      },
      "outputs": [],
      "source": [
        "model_cnn.compile(optimizer=Adamax(learning_rate=0.001),\n",
        "              loss='categorical_crossentropy',\n",
        "              metrics=['accuracy'])"
      ]
    },
    {
      "cell_type": "code",
      "source": [
        "history_cnn = model_cnn.fit(train_gen, epochs=20, batch_size=32, validation_data=valid_gen, verbose=1)"
      ],
      "metadata": {
        "colab": {
          "base_uri": "https://localhost:8080/"
        },
        "id": "WLKFwf5aVyzm",
        "outputId": "8ae513ee-d09a-4e2d-caec-8182fa10d8c4"
      },
      "execution_count": null,
      "outputs": [
        {
          "output_type": "stream",
          "name": "stdout",
          "text": [
            "Epoch 1/20\n",
            "179/179 [==============================] - 32s 119ms/step - loss: 4.9329 - accuracy: 0.4510 - val_loss: 0.9734 - val_accuracy: 0.6420\n",
            "Epoch 2/20\n",
            "179/179 [==============================] - 19s 105ms/step - loss: 1.1123 - accuracy: 0.5578 - val_loss: 0.8559 - val_accuracy: 0.7050\n",
            "Epoch 3/20\n",
            "179/179 [==============================] - 21s 117ms/step - loss: 1.0386 - accuracy: 0.5846 - val_loss: 0.7743 - val_accuracy: 0.7211\n",
            "Epoch 4/20\n",
            "179/179 [==============================] - 19s 104ms/step - loss: 0.9399 - accuracy: 0.6248 - val_loss: 0.7149 - val_accuracy: 0.7572\n",
            "Epoch 5/20\n",
            "179/179 [==============================] - 21s 115ms/step - loss: 0.8750 - accuracy: 0.6544 - val_loss: 0.6453 - val_accuracy: 0.7691\n",
            "Epoch 6/20\n",
            "179/179 [==============================] - 21s 117ms/step - loss: 0.8393 - accuracy: 0.6654 - val_loss: 0.5517 - val_accuracy: 0.8150\n",
            "Epoch 7/20\n",
            "179/179 [==============================] - 19s 106ms/step - loss: 0.7962 - accuracy: 0.6871 - val_loss: 0.5127 - val_accuracy: 0.8186\n",
            "Epoch 8/20\n",
            "179/179 [==============================] - 19s 108ms/step - loss: 0.7394 - accuracy: 0.7078 - val_loss: 0.4934 - val_accuracy: 0.8346\n",
            "Epoch 9/20\n",
            "179/179 [==============================] - 19s 106ms/step - loss: 0.7087 - accuracy: 0.7223 - val_loss: 0.4464 - val_accuracy: 0.8473\n",
            "Epoch 10/20\n",
            "179/179 [==============================] - 21s 117ms/step - loss: 0.6761 - accuracy: 0.7295 - val_loss: 0.4145 - val_accuracy: 0.8395\n",
            "Epoch 11/20\n",
            "179/179 [==============================] - 20s 110ms/step - loss: 0.6367 - accuracy: 0.7553 - val_loss: 0.3629 - val_accuracy: 0.8845\n",
            "Epoch 12/20\n",
            "179/179 [==============================] - 19s 108ms/step - loss: 0.5866 - accuracy: 0.7745 - val_loss: 0.3818 - val_accuracy: 0.8897\n",
            "Epoch 13/20\n",
            "179/179 [==============================] - 19s 104ms/step - loss: 0.5753 - accuracy: 0.7815 - val_loss: 0.3494 - val_accuracy: 0.8969\n",
            "Epoch 14/20\n",
            "179/179 [==============================] - 19s 109ms/step - loss: 0.5231 - accuracy: 0.7999 - val_loss: 0.2749 - val_accuracy: 0.9055\n",
            "Epoch 15/20\n",
            "179/179 [==============================] - 19s 108ms/step - loss: 0.4932 - accuracy: 0.8155 - val_loss: 0.2540 - val_accuracy: 0.9147\n",
            "Epoch 16/20\n",
            "179/179 [==============================] - 19s 108ms/step - loss: 0.4518 - accuracy: 0.8312 - val_loss: 0.2384 - val_accuracy: 0.9207\n",
            "Epoch 17/20\n",
            "179/179 [==============================] - 19s 108ms/step - loss: 0.4314 - accuracy: 0.8386 - val_loss: 0.1906 - val_accuracy: 0.9333\n",
            "Epoch 18/20\n",
            "179/179 [==============================] - 19s 107ms/step - loss: 0.4288 - accuracy: 0.8435 - val_loss: 0.1880 - val_accuracy: 0.9415\n",
            "Epoch 19/20\n",
            "179/179 [==============================] - 20s 112ms/step - loss: 0.3649 - accuracy: 0.8645 - val_loss: 0.1985 - val_accuracy: 0.9298\n",
            "Epoch 20/20\n",
            "179/179 [==============================] - 21s 116ms/step - loss: 0.3608 - accuracy: 0.8703 - val_loss: 0.1416 - val_accuracy: 0.9559\n"
          ]
        }
      ]
    },
    {
      "cell_type": "code",
      "source": [
        "model_cnn.evaluate(test_gen)\n",
        "predicted_lab = model_cnn.predict(test_gen)\n"
      ],
      "metadata": {
        "colab": {
          "base_uri": "https://localhost:8080/"
        },
        "id": "qDb7aAVolZPt",
        "outputId": "afe4cbcc-cef8-411f-bb94-8c6d47e5e657"
      },
      "execution_count": null,
      "outputs": [
        {
          "output_type": "stream",
          "name": "stdout",
          "text": [
            "41/41 [==============================] - 3s 83ms/step - loss: 0.2956 - accuracy: 0.8795\n",
            "41/41 [==============================] - 2s 42ms/step\n"
          ]
        }
      ]
    },
    {
      "cell_type": "code",
      "source": [
        "print(predicted_lab[:2])\n",
        "out_cnn = np.array([list(train_gen.class_indices.keys())[pred.argmax()] for pred in predicted_lab])\n",
        "print(out_cnn)\n",
        "print(testing_df['labels'].values)"
      ],
      "metadata": {
        "colab": {
          "base_uri": "https://localhost:8080/"
        },
        "id": "nmDB_DlOtsdN",
        "outputId": "ccc90eae-22e2-4165-fb8e-e2c5ec2e442b"
      },
      "execution_count": null,
      "outputs": [
        {
          "output_type": "stream",
          "name": "stdout",
          "text": [
            "[[1.5248261e-01 8.4694684e-01 1.9293954e-04 3.7756283e-04]\n",
            " [9.7651690e-02 2.2547157e-01 2.5165206e-01 4.2522469e-01]]\n",
            "['meningioma' 'pituitary' 'meningioma' ... 'meningioma' 'pituitary'\n",
            " 'pituitary']\n",
            "['meningioma' 'meningioma' 'meningioma' ... 'pituitary' 'pituitary'\n",
            " 'pituitary']\n"
          ]
        }
      ]
    },
    {
      "cell_type": "code",
      "source": [
        "model_cnn.summary()"
      ],
      "metadata": {
        "id": "yPFOz6-XdlGj",
        "colab": {
          "base_uri": "https://localhost:8080/"
        },
        "outputId": "40ec4798-52e2-4c6a-b5b1-c863b2bdf91a"
      },
      "execution_count": null,
      "outputs": [
        {
          "output_type": "stream",
          "name": "stdout",
          "text": [
            "Model: \"sequential\"\n",
            "_________________________________________________________________\n",
            " Layer (type)                Output Shape              Param #   \n",
            "=================================================================\n",
            " conv2d (Conv2D)             (None, 224, 224, 8)       80        \n",
            "                                                                 \n",
            " conv2d_1 (Conv2D)           (None, 224, 224, 16)      1168      \n",
            "                                                                 \n",
            " conv2d_2 (Conv2D)           (None, 224, 224, 16)      272       \n",
            "                                                                 \n",
            " max_pooling2d (MaxPooling2  (None, 112, 112, 16)      0         \n",
            " D)                                                              \n",
            "                                                                 \n",
            " conv2d_3 (Conv2D)           (None, 112, 112, 16)      2320      \n",
            "                                                                 \n",
            " conv2d_4 (Conv2D)           (None, 112, 112, 16)      272       \n",
            "                                                                 \n",
            " max_pooling2d_1 (MaxPoolin  (None, 56, 56, 16)        0         \n",
            " g2D)                                                            \n",
            "                                                                 \n",
            " conv2d_5 (Conv2D)           (None, 56, 56, 32)        4640      \n",
            "                                                                 \n",
            " conv2d_6 (Conv2D)           (None, 56, 56, 32)        1056      \n",
            "                                                                 \n",
            " max_pooling2d_2 (MaxPoolin  (None, 28, 28, 32)        0         \n",
            " g2D)                                                            \n",
            "                                                                 \n",
            " conv2d_7 (Conv2D)           (None, 28, 28, 32)        9248      \n",
            "                                                                 \n",
            " conv2d_8 (Conv2D)           (None, 28, 28, 32)        1056      \n",
            "                                                                 \n",
            " max_pooling2d_3 (MaxPoolin  (None, 14, 14, 32)        0         \n",
            " g2D)                                                            \n",
            "                                                                 \n",
            " flatten (Flatten)           (None, 6272)              0         \n",
            "                                                                 \n",
            " dense (Dense)               (None, 128)               802944    \n",
            "                                                                 \n",
            " dropout (Dropout)           (None, 128)               0         \n",
            "                                                                 \n",
            " dense_1 (Dense)             (None, 64)                8256      \n",
            "                                                                 \n",
            " dropout_1 (Dropout)         (None, 64)                0         \n",
            "                                                                 \n",
            " dense_2 (Dense)             (None, 4)                 260       \n",
            "                                                                 \n",
            "=================================================================\n",
            "Total params: 831572 (3.17 MB)\n",
            "Trainable params: 831572 (3.17 MB)\n",
            "Non-trainable params: 0 (0.00 Byte)\n",
            "_________________________________________________________________\n"
          ]
        }
      ]
    },
    {
      "cell_type": "markdown",
      "source": [
        "# HOG enabled NN"
      ],
      "metadata": {
        "id": "IqApgDawdSFB"
      }
    },
    {
      "cell_type": "code",
      "source": [
        "LE = LabelEncoder()\n",
        "\n",
        "training_y = LE.fit_transform(training_df[\"labels\"])\n",
        "training_x = training_df[\"filepaths\"]\n",
        "\n",
        "testing_y = LE.transform(testing_df[\"labels\"])\n",
        "testing_x = testing_df['filepaths']\n",
        "\n",
        "train_x, valid_x, train_y ,valid_y = train_test_split(training_x,training_y,test_size=0.2,random_state=50)"
      ],
      "metadata": {
        "id": "sGD8OqRvhwZm"
      },
      "execution_count": null,
      "outputs": []
    },
    {
      "cell_type": "code",
      "source": [
        "def load_image(path,target_size):\n",
        "  image = tf.keras.utils.load_img(path,color_mode=\"grayscale\",target_size=target_size)\n",
        "  input_arr = tf.keras.utils.img_to_array(image)\n",
        "  return input_arr\n",
        "\n",
        "def preprocess_images_hog(path):\n",
        "  img_gray = load_image(path,(224,224))[:,:,0]\n",
        "  fd = hog(img_gray, orientations=8, pixels_per_cell=(16, 16),\n",
        "                        cells_per_block=(1, 1), visualize=False, multichannel=False)\n",
        "  return fd"
      ],
      "metadata": {
        "id": "0tIH2TVGdbCZ"
      },
      "execution_count": null,
      "outputs": []
    },
    {
      "cell_type": "code",
      "source": [
        "train_inp = np.array([ preprocess_images_hog(f) for f in train_x ])\n",
        "train_lab = pd.get_dummies(train_y).values\n",
        "print(train_inp.shape)\n",
        "\n",
        "valid_inp = np.array([ preprocess_images_hog(f) for f in valid_x ])\n",
        "valid_lab = pd.get_dummies(valid_y).values\n",
        "print(valid_inp.shape)\n",
        "\n",
        "ts_inp = np.array([ preprocess_images_hog(f) for f in testing_x ])\n",
        "ts_lab = pd.get_dummies(testing_y).values\n",
        "print(ts_inp.shape)"
      ],
      "metadata": {
        "colab": {
          "base_uri": "https://localhost:8080/"
        },
        "id": "ZNKTUABbdRy6",
        "outputId": "4850a608-6a03-4230-da27-9c21940b122c"
      },
      "execution_count": null,
      "outputs": [
        {
          "output_type": "stream",
          "name": "stdout",
          "text": [
            "(4569, 1568)\n",
            "(1143, 1568)\n",
            "(1311, 1568)\n"
          ]
        }
      ]
    },
    {
      "cell_type": "code",
      "source": [
        "model_hog = Sequential([\n",
        "    Dense(128, activation='relu',input_shape=(int(train_inp.shape[1]),)),\n",
        "    Dropout(0.4),\n",
        "    Dense(64, activation='relu'),\n",
        "    Dropout(0.25),\n",
        "    Dense(4, activation='softmax')\n",
        "])"
      ],
      "metadata": {
        "id": "IiCefL1jdjga"
      },
      "execution_count": null,
      "outputs": []
    },
    {
      "cell_type": "code",
      "source": [
        "model_hog.compile(optimizer=Adamax(learning_rate=0.001),\n",
        "              loss='categorical_crossentropy',\n",
        "              metrics=['accuracy'],run_eagerly=True)"
      ],
      "metadata": {
        "id": "FGuerFI3dmHj"
      },
      "execution_count": null,
      "outputs": []
    },
    {
      "cell_type": "code",
      "source": [
        "print(train_inp[:2],train_lab[:2])"
      ],
      "metadata": {
        "colab": {
          "base_uri": "https://localhost:8080/"
        },
        "id": "sp_fCCrthBKQ",
        "outputId": "537b641f-2352-47ea-96a8-2ae088befdb7"
      },
      "execution_count": null,
      "outputs": [
        {
          "output_type": "stream",
          "name": "stdout",
          "text": [
            "[[0.40642327 0.26712054 0.40642327 ... 0.3590651  0.3590651  0.3590651 ]\n",
            " [0.5736807  0.19824381 0.2507608  ... 0.11217419 0.27872294 0.5117363 ]] [[False False False  True]\n",
            " [False False False  True]]\n"
          ]
        }
      ]
    },
    {
      "cell_type": "code",
      "source": [
        "history_hog = model_hog.fit(x=train_inp,y=train_lab, epochs=20, batch_size=32, validation_data=(valid_inp,valid_lab), verbose=1)"
      ],
      "metadata": {
        "colab": {
          "base_uri": "https://localhost:8080/"
        },
        "id": "R0qIL--MdowE",
        "outputId": "4fa09436-1aac-4e84-e760-a65de7721db7"
      },
      "execution_count": null,
      "outputs": [
        {
          "output_type": "stream",
          "name": "stdout",
          "text": [
            "Epoch 1/20\n",
            "143/143 [==============================] - 5s 31ms/step - loss: 0.9812 - accuracy: 0.5837 - val_loss: 0.6496 - val_accuracy: 0.7717\n",
            "Epoch 2/20\n",
            "143/143 [==============================] - 4s 31ms/step - loss: 0.6849 - accuracy: 0.7439 - val_loss: 0.5065 - val_accuracy: 0.8548\n",
            "Epoch 3/20\n",
            "143/143 [==============================] - 4s 29ms/step - loss: 0.5612 - accuracy: 0.8041 - val_loss: 0.4297 - val_accuracy: 0.8679\n",
            "Epoch 4/20\n",
            "143/143 [==============================] - 5s 32ms/step - loss: 0.5012 - accuracy: 0.8201 - val_loss: 0.4050 - val_accuracy: 0.8618\n",
            "Epoch 5/20\n",
            "143/143 [==============================] - 4s 27ms/step - loss: 0.4595 - accuracy: 0.8402 - val_loss: 0.3679 - val_accuracy: 0.8828\n",
            "Epoch 6/20\n",
            "143/143 [==============================] - 4s 28ms/step - loss: 0.4226 - accuracy: 0.8492 - val_loss: 0.3616 - val_accuracy: 0.8801\n",
            "Epoch 7/20\n",
            "143/143 [==============================] - 5s 32ms/step - loss: 0.3977 - accuracy: 0.8577 - val_loss: 0.3494 - val_accuracy: 0.8880\n",
            "Epoch 8/20\n",
            "143/143 [==============================] - 4s 29ms/step - loss: 0.3788 - accuracy: 0.8676 - val_loss: 0.3363 - val_accuracy: 0.8836\n",
            "Epoch 9/20\n",
            "143/143 [==============================] - 4s 29ms/step - loss: 0.3642 - accuracy: 0.8713 - val_loss: 0.3138 - val_accuracy: 0.8915\n",
            "Epoch 10/20\n",
            "143/143 [==============================] - 5s 33ms/step - loss: 0.3395 - accuracy: 0.8801 - val_loss: 0.3239 - val_accuracy: 0.8810\n",
            "Epoch 11/20\n",
            "143/143 [==============================] - 4s 30ms/step - loss: 0.3367 - accuracy: 0.8770 - val_loss: 0.3188 - val_accuracy: 0.8924\n",
            "Epoch 12/20\n",
            "143/143 [==============================] - 4s 29ms/step - loss: 0.3271 - accuracy: 0.8825 - val_loss: 0.3059 - val_accuracy: 0.8985\n",
            "Epoch 13/20\n",
            "143/143 [==============================] - 5s 32ms/step - loss: 0.3176 - accuracy: 0.8877 - val_loss: 0.3394 - val_accuracy: 0.8863\n",
            "Epoch 14/20\n",
            "143/143 [==============================] - 5s 33ms/step - loss: 0.3022 - accuracy: 0.8947 - val_loss: 0.3116 - val_accuracy: 0.8994\n",
            "Epoch 15/20\n",
            "143/143 [==============================] - 4s 30ms/step - loss: 0.2792 - accuracy: 0.9028 - val_loss: 0.3070 - val_accuracy: 0.8880\n",
            "Epoch 16/20\n",
            "143/143 [==============================] - 4s 30ms/step - loss: 0.2733 - accuracy: 0.9000 - val_loss: 0.2947 - val_accuracy: 0.9003\n",
            "Epoch 17/20\n",
            "143/143 [==============================] - 4s 27ms/step - loss: 0.2648 - accuracy: 0.9072 - val_loss: 0.2991 - val_accuracy: 0.8994\n",
            "Epoch 18/20\n",
            "143/143 [==============================] - 4s 31ms/step - loss: 0.2625 - accuracy: 0.9054 - val_loss: 0.2765 - val_accuracy: 0.9073\n",
            "Epoch 19/20\n",
            "143/143 [==============================] - 4s 28ms/step - loss: 0.2448 - accuracy: 0.9120 - val_loss: 0.2886 - val_accuracy: 0.9064\n",
            "Epoch 20/20\n",
            "143/143 [==============================] - 4s 27ms/step - loss: 0.2437 - accuracy: 0.9155 - val_loss: 0.2837 - val_accuracy: 0.9090\n"
          ]
        }
      ]
    },
    {
      "cell_type": "code",
      "source": [
        "model_hog.evaluate(ts_inp,ts_lab)\n",
        "predicted_hog = model_hog.predict(ts_inp)"
      ],
      "metadata": {
        "colab": {
          "base_uri": "https://localhost:8080/"
        },
        "id": "gm9cuKjgliye",
        "outputId": "d529cc7e-c560-4270-debc-45bd1bde6a4e"
      },
      "execution_count": null,
      "outputs": [
        {
          "output_type": "stream",
          "name": "stdout",
          "text": [
            "41/41 [==============================] - 1s 13ms/step - loss: 0.3899 - accuracy: 0.8474\n",
            "41/41 [==============================] - 0s 4ms/step\n"
          ]
        }
      ]
    },
    {
      "cell_type": "code",
      "source": [
        "print(predicted_hog[:2])\n",
        "out_hog = np.array([list(train_gen.class_indices.keys())[pred.argmax()] for pred in predicted_hog])\n",
        "print(out_hog)\n",
        "print(LE.inverse_transform(testing_y))"
      ],
      "metadata": {
        "colab": {
          "base_uri": "https://localhost:8080/"
        },
        "id": "4N0ykwJkvOq1",
        "outputId": "8024a907-99b7-43f2-8a94-b46e647664ac"
      },
      "execution_count": null,
      "outputs": [
        {
          "output_type": "stream",
          "name": "stdout",
          "text": [
            "[[0.00921116 0.96781456 0.00544006 0.01753428]\n",
            " [0.06208354 0.52295804 0.00670245 0.40825593]]\n",
            "['meningioma' 'meningioma' 'glioma' ... 'pituitary' 'pituitary'\n",
            " 'pituitary']\n",
            "['meningioma' 'meningioma' 'meningioma' ... 'pituitary' 'pituitary'\n",
            " 'pituitary']\n"
          ]
        }
      ]
    },
    {
      "cell_type": "code",
      "source": [
        "model_hog.summary()"
      ],
      "metadata": {
        "colab": {
          "base_uri": "https://localhost:8080/"
        },
        "id": "NWtRHuIDdpWq",
        "outputId": "4b235e07-6ecc-43bb-f6cb-729cd3bb4c6a"
      },
      "execution_count": null,
      "outputs": [
        {
          "output_type": "stream",
          "name": "stdout",
          "text": [
            "Model: \"sequential_2\"\n",
            "_________________________________________________________________\n",
            " Layer (type)                Output Shape              Param #   \n",
            "=================================================================\n",
            " dense_7 (Dense)             (None, 128)               200832    \n",
            "                                                                 \n",
            " dropout_5 (Dropout)         (None, 128)               0         \n",
            "                                                                 \n",
            " dense_8 (Dense)             (None, 64)                8256      \n",
            "                                                                 \n",
            " dropout_6 (Dropout)         (None, 64)                0         \n",
            "                                                                 \n",
            " dense_9 (Dense)             (None, 4)                 260       \n",
            "                                                                 \n",
            "=================================================================\n",
            "Total params: 209348 (817.77 KB)\n",
            "Trainable params: 209348 (817.77 KB)\n",
            "Non-trainable params: 0 (0.00 Byte)\n",
            "_________________________________________________________________\n"
          ]
        }
      ]
    },
    {
      "cell_type": "markdown",
      "source": [
        "# Metrics"
      ],
      "metadata": {
        "id": "qtea3gEDxD6R"
      }
    },
    {
      "cell_type": "code",
      "source": [
        "def generate_report(y_true, y_pred, labels):\n",
        "  cm = confusion_matrix(y_true,y_pred, labels=labels)\n",
        "  cr = classification_report(y_true,y_pred, target_names=labels)\n",
        "  print(cm)\n",
        "  print()\n",
        "  print(cr)\n",
        "\n",
        "def plot_history(his):\n",
        "  loss = his.history[\"loss\"]\n",
        "  val_loss = his.history[\"val_loss\"]\n",
        "  accuracy = his.history[\"accuracy\"]\n",
        "  val_accuracy = his.history[\"val_accuracy\"]\n",
        "\n",
        "  plt.figure()\n",
        "  plt.title(\"Loss vs Epoch\")\n",
        "  plt.plot(loss,c='r',label=\"train loss\")\n",
        "  plt.plot(val_loss,c='b',label='val loss')\n",
        "  plt.legend()\n",
        "\n",
        "  plt.figure()\n",
        "  plt.title(\"Accuracy vs Epoch\")\n",
        "  plt.plot(accuracy,c='r',label='train acc')\n",
        "  plt.plot(val_accuracy,c='b',label='val acc')\n",
        "  plt.legend()"
      ],
      "metadata": {
        "id": "bPXD3Ny3xFyl"
      },
      "execution_count": null,
      "outputs": []
    },
    {
      "cell_type": "code",
      "source": [
        "print(\"-\"*50,\"CNN\",\"-\"*50)\n",
        "generate_report(testing_df['labels'].values,out_cnn,list(train_gen.class_indices.keys()))\n",
        "print(\"-\"*50,\"HOG\",\"-\"*50)\n",
        "generate_report(LE.inverse_transform(testing_y),out_hog,list(train_gen.class_indices.keys()))"
      ],
      "metadata": {
        "colab": {
          "base_uri": "https://localhost:8080/"
        },
        "id": "JNqIG_H9xGiW",
        "outputId": "282bc0d7-4711-4347-9659-6bc8877cc513"
      },
      "execution_count": null,
      "outputs": [
        {
          "output_type": "stream",
          "name": "stdout",
          "text": [
            "-------------------------------------------------- CNN --------------------------------------------------\n",
            "[[231  66   1   2]\n",
            " [ 20 233  39  14]\n",
            " [  2   4 399   0]\n",
            " [  0  10   0 290]]\n",
            "\n",
            "              precision    recall  f1-score   support\n",
            "\n",
            "      glioma       0.91      0.77      0.84       300\n",
            "  meningioma       0.74      0.76      0.75       306\n",
            "     notumor       0.91      0.99      0.95       405\n",
            "   pituitary       0.95      0.97      0.96       300\n",
            "\n",
            "    accuracy                           0.88      1311\n",
            "   macro avg       0.88      0.87      0.87      1311\n",
            "weighted avg       0.88      0.88      0.88      1311\n",
            "\n",
            "-------------------------------------------------- HOG --------------------------------------------------\n",
            "[[250  43   0   7]\n",
            " [ 34 166  76  30]\n",
            " [  0   1 404   0]\n",
            " [  5   4   0 291]]\n",
            "\n",
            "              precision    recall  f1-score   support\n",
            "\n",
            "      glioma       0.87      0.83      0.85       300\n",
            "  meningioma       0.78      0.54      0.64       306\n",
            "     notumor       0.84      1.00      0.91       405\n",
            "   pituitary       0.89      0.97      0.93       300\n",
            "\n",
            "    accuracy                           0.85      1311\n",
            "   macro avg       0.84      0.84      0.83      1311\n",
            "weighted avg       0.84      0.85      0.84      1311\n",
            "\n"
          ]
        }
      ]
    },
    {
      "cell_type": "code",
      "source": [
        "plot_history(history_cnn)"
      ],
      "metadata": {
        "colab": {
          "base_uri": "https://localhost:8080/",
          "height": 887
        },
        "id": "dNBQk04I2cFd",
        "outputId": "ba9c9653-7930-40e1-b850-10ba01e31c45"
      },
      "execution_count": null,
      "outputs": [
        {
          "output_type": "display_data",
          "data": {
            "text/plain": [
              "<Figure size 640x480 with 1 Axes>"
            ],
            "image/png": "[encoded data removed]"
          },
          "metadata": {}
        },
        {
          "output_type": "display_data",
          "data": {
            "text/plain": [
              "<Figure size 640x480 with 1 Axes>"
            ],
            "image/png": "[encoded data removed]"
          },
          "metadata": {}
        }
      ]
    },
    {
      "cell_type": "code",
      "source": [
        "plot_history(history_hog)"
      ],
      "metadata": {
        "colab": {
          "base_uri": "https://localhost:8080/",
          "height": 887
        },
        "id": "T-j-Blbu3kqs",
        "outputId": "63597e43-9ccc-4b9b-d1d8-5684628acd27"
      },
      "execution_count": null,
      "outputs": [
        {
          "output_type": "display_data",
          "data": {
            "text/plain": [
              "<Figure size 640x480 with 1 Axes>"
            ],
            "image/png": "[encoded data removed]"
          },
          "metadata": {}
        },
        {
          "output_type": "display_data",
          "data": {
            "text/plain": [
              "<Figure size 640x480 with 1 Axes>"
            ],
            "image/png": "[encoded data removed]"
          },
          "metadata": {}
        }
      ]
    }
  ],
  "metadata": {
    "colab": {
      "provenance": [],
      "gpuType": "T4"
    },
    "kernelspec": {
      "display_name": "Python 3",
      "name": "python3"
    },
    "language_info": {
      "name": "python"
    },
    "accelerator": "GPU"
  },
  "nbformat": 4,
  "nbformat_minor": 0
}